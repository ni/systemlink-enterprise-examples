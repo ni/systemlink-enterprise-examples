{
 "cells": [
  {
   "cell_type": "markdown",
   "id": "83dc24e2-c0f8-45a4-a9f7-64c8b572fb10",
   "metadata": {},
   "source": [
    "# Simple ETL Example\n",
    "This example demonstrates a basic Extract, Transform, Load pattern for taking measurement data in various formats and normalizing to SystemLink DataFrames. It utilizes the ***File Service*** to download a specified file, the ***DataFrame Service*** to store the normalized test and measurement data, and the ***Test Monitor Service*** to link the metadata from the test data to the created DataTable in a highly searchable manner."
   ]
  },
  {
   "cell_type": "markdown",
   "id": "cd868567-3606-43fa-a022-c0a6d5ce1370",
   "metadata": {},
   "source": [
    "### Imports\n",
    "Import Python modules for executing the notebook. The requests and json libraries are used for communicating with the various SystemLink service's enpoints. Pandas is used for building and handling dataframe. Scrapbook is used for running notebooks and recording data for the SystemLink Notebook Execution Service.\n",
    "\n",
    "The SYSTEMLINK_API_KEY environment variable specifies an API key created for the user executinge this notebook, which provides Role Based Access Control to the various SystemLink APIs called by this notebook. The API key will expire after 24 hours.  \n",
    "The SYSTEMLINK_HTTP_URI environment variable gives the base URL to the SystemLink instance executing this notebook."
   ]
  },
  {
   "cell_type": "code",
   "execution_count": null,
   "id": "f3915ed6-00ec-4407-8f18-157fef8dcbe9",
   "metadata": {},
   "outputs": [],
   "source": [
    "import os\n",
    "import requests\n",
    "import json\n",
    "import pandas\n",
    "import scrapbook\n",
    "\n",
    "api_key = os.getenv(\"SYSTEMLINK_API_KEY\")\n",
    "sl_uri = os.getenv(\"SYSTEMLINK_HTTP_URI\")"
   ]
  },
  {
   "cell_type": "markdown",
   "id": "ccc08749-9e93-4ac8-9d05-de5dd0736ca9",
   "metadata": {},
   "source": [
    "### Parameters\n",
    "These are the parameters that the notebook expects to be passed in by SystemLink. For notebooks designed to be triggered by file actions as defined in the Routines Service or by pressing the 'Analyze' button in one of the SystemLink files grids, they must tag the cell with 'parameters' and at minimum specify the following in the cell metadata using the JupyterLab Property Inspector (double gear icon):\n",
    " \n",
    "    {\n",
    "        \"papermill\": {\n",
    "            \"parameters\": {\n",
    "                \"file_ids\": []\n",
    "            }\n",
    "        },\n",
    "        \"tags\": [\n",
    "            \"parameters\"\n",
    "        ],\n",
    "            \"systemlink\": {\n",
    "            \"interfaces\": [\n",
    "                \"ni-files\"\n",
    "            ],\n",
    "            \"parameters\": [\n",
    "                {\n",
    "                    \"display_name\": \"file_ids\",\n",
    "                    \"id\": \"file_ids\",\n",
    "                    \"type\": \"string[]\"\n",
    "                }\n",
    "            ],\n",
    "            \"version\": 2\n",
    "        }\n",
    "    }\n",
    "For more information on how paramaterization works, review the [papermill documentation](https://papermill.readthedocs.io/en/latest/usage-parameterize.html#how-parameters-work)."
   ]
  },
  {
   "cell_type": "code",
   "execution_count": null,
   "id": "1bf9730c-1b2c-4ebe-9ceb-5cb5fda88fe3",
   "metadata": {
    "papermill": {
     "parameters": {
      "file_ids": []
     }
    },
    "systemlink": {
     "interfaces": [
      "ni-files"
     ],
     "outputs": [
      {
       "display_name": "Test Result ID",
       "id": "Test Result ID",
       "type": "scalar"
      },
      {
       "display_name": "Data Table ID",
       "id": "Data Table ID",
       "type": "scalar"
      }
     ],
     "parameters": [
      {
       "display_name": "file_ids",
       "id": "file_ids",
       "type": "string[]"
      }
     ],
     "version": 2
    },
    "tags": [
     "parameters"
    ]
   },
   "outputs": [],
   "source": [
    "file_ids = [\"e657b807-6e88-4f9c-aae1-ab9c57077cfb\"]"
   ]
  },
  {
   "cell_type": "markdown",
   "id": "73948023-50a2-4c02-87d7-b6079305d8df",
   "metadata": {},
   "source": [
    "### Download the file specified by the input parameters and store it locally"
   ]
  },
  {
   "cell_type": "code",
   "execution_count": null,
   "id": "d0837f24-3c71-4a94-a433-7a54107f9486",
   "metadata": {},
   "outputs": [],
   "source": [
    "# This notebook is written to operate on 1 file. Throw a read-able exception if the expected parameters are not present.\n",
    "if len(file_ids) != 1:\n",
    "    raise Exception(f\"This example notebook is designed to operate on one file at a time.\")\n",
    "    \n",
    "file_id = file_ids[0]\n",
    "\n",
    "headers = { 'X-NI-API-KEY': api_key }\n",
    "download_resp = requests.get(f'{sl_uri}/nifile/v1/service-groups/Default/files/{file_id}/data', headers=headers)\n",
    "\n",
    "# Expect a 200 code on success, raise an exception if there is an error response\n",
    "download_resp.raise_for_status()\n",
    "\n",
    "# The name of the file is returned in the content-disposition section of the header in the format:\n",
    "#    attachment; filename=\"MeasurementData.csv\"\n",
    "# This returns everything between the first and last \" characters to use as the local filename.\n",
    "filename = download_resp.headers['content-disposition'].split('\"')[1::-1][0]\n",
    "\n",
    "with open(filename, 'wb') as file:\n",
    "    file.write(download_resp.content)"
   ]
  },
  {
   "cell_type": "markdown",
   "id": "372a32c9-2b3f-408a-a0a9-63a1233b68e1",
   "metadata": {},
   "source": [
    "### Select the Workspace to create the test result and data table\n",
    "SystemLink stores all artifacts and data in Workspaces. These Workspaces provide a key component of our role-based access control mechanism. Each user may have one or more Roles in a given Workspace that grant them various privileges for SystemLink's services. For example, the ability to create a new test result.\n",
    "\n",
    "Here you should ensure you select a workspace that you have sufficient privileges to create and update both test results and datatables."
   ]
  },
  {
   "cell_type": "code",
   "execution_count": null,
   "id": "b0f96175-f1ae-4290-9f1c-7cb82f8d399c",
   "metadata": {},
   "outputs": [],
   "source": [
    "headers = { 'X-NI-API-KEY': api_key }\n",
    "get_workspaces_resp = requests.get(f'{sl_uri}/niuser/v1/workspaces', headers=headers)\n",
    "\n",
    "# Expect a 200 code on success, raise an exception if there is an error response\n",
    "get_workspaces_resp.raise_for_status()\n",
    "\n",
    "# Print the list of workspaces you may choose to create the test result and datatable in\n",
    "workspaces = {w[\"name\"]: w for w in get_workspaces_resp.json()[\"workspaces\"] if w[\"enabled\"]}\n",
    "for workspace in workspaces:\n",
    "    print(workspace)"
   ]
  },
  {
   "cell_type": "code",
   "execution_count": null,
   "id": "060092ef",
   "metadata": {},
   "outputs": [],
   "source": [
    "# Specify the desired workspace by name from the list printed by the cell above.\n",
    "# Ensure that you have the Data Maintainer role or equivalent privileges in the workspace.\n",
    "# As a placeholder, the Default workspace will be used.\n",
    "workspace = workspaces[\"Default\"]"
   ]
  },
  {
   "cell_type": "markdown",
   "id": "ab449d43-ada7-4ff9-9e07-024fc8afde49",
   "metadata": {},
   "source": [
    "### Load the test data in the provided file into pandas for analysis\n",
    "Depending on your data's format, additional processing may need to be done here to extract test metadata from the file. In this example, the specified data format is a simple CSV file with 5 columns of various data types.\n",
    "\n",
    "note: Keep in mind that the images running automated executions are limited to 2 GB of RAM. Loading large files and operating on them in memory is not recommended."
   ]
  },
  {
   "cell_type": "code",
   "execution_count": null,
   "id": "60cff58e-a36a-4dfd-9211-1e46a77bbeb9",
   "metadata": {},
   "outputs": [],
   "source": [
    "df = pandas.read_csv(filename, sep=',', index_col=0)"
   ]
  },
  {
   "cell_type": "markdown",
   "id": "f4b9b269-b0e6-4ac1-a82e-ac538d07f948",
   "metadata": {},
   "source": [
    "### Create a new Table that matches the data format of the specified file\n",
    "In this example, we create a new DataTable for each file. You may also use the SystemLink DataFrame Service to query for existing tables if you would like to append multiple files into the same table."
   ]
  },
  {
   "cell_type": "code",
   "execution_count": null,
   "id": "e01f9561-170d-4fa1-9963-537b6873e67b",
   "metadata": {},
   "outputs": [],
   "source": [
    "# Specify the name and datatype for the columns to create in the DataTable\n",
    "columnNames = list(df)\n",
    "columnTypes = ['TIMESTAMP', 'FLOAT32', 'FLOAT32', 'STRING', 'BOOL']\n",
    "\n",
    "# Create column specification (to pass to the DataFrame service route to create a table)\n",
    "# Includes column name, column data type, and column type. The first column is set as the index column.\n",
    "columns = []\n",
    "first_column = True\n",
    "for (columnName, dataType) in zip(columnNames, columnTypes):\n",
    "    columnType = 'INDEX' if first_column else 'NULLABLE'\n",
    "    first_column = False\n",
    "    columns.append({'name': columnName, 'dataType': dataType, 'columnType' : columnType})\n",
    "\n",
    "# Create the table\n",
    "table_info = {'name': filename, 'columns': columns, 'workspace': workspace[\"id\"]}\n",
    "headers = { \"X-NI-API-KEY\": api_key, 'Content-Type': 'application/json' }\n",
    "create_table_resp = requests.post(f'{sl_uri}/nidataframe/v1/tables', headers=headers, json=table_info)\n",
    "\n",
    "# Expect 201 on success, raise an exception if there is an error response\n",
    "create_table_resp.raise_for_status()\n",
    "\n",
    "table_id = create_table_resp.json()[\"id\"]"
   ]
  },
  {
   "cell_type": "markdown",
   "id": "0e8004ee-e5ae-433a-acff-90c4ac5b17a6",
   "metadata": {},
   "source": [
    "### Write information from the pandas dataframe into the SystemLink DataFrame Service\n",
    "Use the Dataframe service to write the data from the measurement file into SystemLink. In this scenario, we are writing the entire file to a table at once. For data sets larger than 256 MB, multiple writes will be required."
   ]
  },
  {
   "cell_type": "code",
   "execution_count": null,
   "id": "6f528e25-58ef-4aed-affd-6eb482467606",
   "metadata": {},
   "outputs": [],
   "source": [
    "# Convert the pandas dataframe to the expected json format\n",
    "frame_dict = df.astype(str).to_json(orient=\"split\", index=False)\n",
    "\n",
    "# Write the data to the table. Since we're writing one file/frame per table, set endofData to true\n",
    "frame_info = f'{{\"frame\": {frame_dict}, \"endOfData\": true}}'\n",
    "headers = {'X-NI-API-KEY': api_key, 'Content-Type': 'application/json'}\n",
    "write_data_resp = requests.post(f'{sl_uri}/nidataframe/v1/tables/{table_id}/data', headers=headers, data=frame_info)\n",
    "\n",
    "# Expect 204 on success, raise an exception if there is an error response\n",
    "write_data_resp.raise_for_status()"
   ]
  },
  {
   "cell_type": "markdown",
   "id": "ac6d4dc4-d919-4bfd-9328-ccc11598e404",
   "metadata": {},
   "source": [
    "### Create new Test Result\n",
    "Use the TestMonitor API to create a new Test Result. In a real application, the result data will likely be provided by metadata in the file."
   ]
  },
  {
   "cell_type": "code",
   "execution_count": null,
   "id": "8513d1c1-58fe-4b8f-a55f-c737416036c2",
   "metadata": {},
   "outputs": [],
   "source": [
    "# Form the JSON request body as per the nitestmonitor/v2 API\n",
    "results_info = {\n",
    "    \"results\": [\n",
    "        {\n",
    "            \"programName\": \"Simple ETL Example\",\n",
    "            \"status\": {\n",
    "                \"statusType\": \"PASSED\",\n",
    "                \"statusName\": \"Passed\"\n",
    "            },\n",
    "            \"partNumber\": \"my-product\",\n",
    "            \"systemId\": \"my-system\",\n",
    "            \"hostName\": \"My-Host\",\n",
    "            \"serialNumber\": \"123-456\",\n",
    "            \"operator\": \"admin\",\n",
    "            \"fileIds\": [file_id],\n",
    "            \"dataTableIds\": [table_id],\n",
    "            \"workspace\": workspace[\"id\"]\n",
    "        }\n",
    "    ]\n",
    "}\n",
    "\n",
    "headers = {'X-NI-API-KEY': api_key, 'Content-Type': 'application/json'}\n",
    "create_result_resp = requests.post(f'{sl_uri}/nitestmonitor/v2/results', headers=headers, json=results_info)\n",
    "\n",
    "# Expect 200, 201, or 204 for success or partial success, raise an exception if there is an error response\n",
    "create_result_resp.raise_for_status()\n",
    "\n",
    "result_id = create_result_resp.json()['results'][0]['id']"
   ]
  },
  {
   "cell_type": "markdown",
   "id": "b038a898-b517-4597-9486-1a005004b5c0",
   "metadata": {},
   "source": [
    "### Store the result information so that SystemLink can access it\n",
    "SystemLink uses scrapbook to store result information from each notebook execution to display to the user in the Execution Details slide-out. Here we will display the IDs of the Test Result and DataTable that we created for easy reference later."
   ]
  },
  {
   "cell_type": "code",
   "execution_count": null,
   "id": "23772a99-d658-4a78-a54f-26df7b22c97a",
   "metadata": {},
   "outputs": [],
   "source": [
    "result = [\n",
    "    {\n",
    "        'type': 'scalar',\n",
    "        'id': 'Test Result ID',\n",
    "        'value': result_id\n",
    "    },\n",
    "    {\n",
    "        'type': 'scalar',\n",
    "        'id': 'Data Table ID',\n",
    "        'value': table_id\n",
    "    }\n",
    "]\n",
    "\n",
    "scrapbook.glue('result', result)"
   ]
  },
  {
   "cell_type": "markdown",
   "id": "e67de144-828e-4adb-b16a-0a9a38667d02",
   "metadata": {},
   "source": [
    "# Next Steps\n",
    "\n",
    "1. Publish this notebook to SystemLink by right-clicking it in the JupyterLab File Browser\n",
    "1. Manually execute this notebook against a file in the SystemLink Files application\n",
    "1. Configure a Routine to execute this notebook against any new files that get uploaded to systemlink\n",
    "1. Use Grafana Dashboards to View and Explore the uploaded data"
   ]
  }
 ],
 "metadata": {
  "kernelspec": {
   "display_name": "Python 3 (ipykernel)",
   "language": "python",
   "name": "python3"
  },
  "language_info": {
   "codemirror_mode": {
    "name": "ipython",
    "version": 3
   },
   "file_extension": ".py",
   "mimetype": "text/x-python",
   "name": "python",
   "nbconvert_exporter": "python",
   "pygments_lexer": "ipython3",
   "version": "3.8.2"
  }
 },
 "nbformat": 4,
 "nbformat_minor": 5
}
