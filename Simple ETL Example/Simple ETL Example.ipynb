{
 "cells": [
  {
   "cell_type": "markdown",
   "id": "83dc24e2-c0f8-45a4-a9f7-64c8b572fb10",
   "metadata": {},
   "source": [
    "# Simple ETL Example\n",
    "This example demonstrates a basic Extract, Transform, Load pattern for taking measurement data in various formats and normalizing to SystemLink DataFrames. It utilizes the ***File Service*** to download a specified file, the ***DataFrame Service*** to store the normalized test and measurement data, and the ***Test Monitor Service*** to link the metadata from the test data to the created DataTable in a highly searchable manner."
   ]
  },
  {
   "cell_type": "markdown",
   "id": "cd868567-3606-43fa-a022-c0a6d5ce1370",
   "metadata": {},
   "source": [
    "### Imports\n",
    "Import Python modules for executing the notebook. The requests and json libraries are used for communicating with the various SystemLink service's enpoints. Pandas is used for building and handling dataframe. Scrapbook is used for running notebooks and recording data for the SystemLink Notebook Execution Service.\n",
    "\n",
    "The SYSTEMLINK_API_KEY environment variable specifies an API key created for the user executinge this notebook, which provides Role Based Access Control to the various SystemLink APIs called by this notebook. The API key will expire after 24 hours.  \n",
    "The SYSTEMLINK_HTTP_URI environment variable gives the base URL to the SystemLink instance executing this notebook."
   ]
  },
  {
   "cell_type": "code",
   "execution_count": null,
   "id": "f3915ed6-00ec-4407-8f18-157fef8dcbe9",
   "metadata": {},
   "outputs": [],
   "source": [
    "import os\n",
    "import requests\n",
    "import json\n",
    "import pandas\n",
    "import scrapbook\n",
    "\n",
    "api_key = os.getenv(\"SYSTEMLINK_API_KEY\")\n",
    "sl_uri = os.getenv(\"SYSTEMLINK_HTTP_URI\")"
   ]
  }
 ],
 "metadata": {
  "kernelspec": {
   "display_name": "Python 3 (ipykernel)",
   "language": "python",
   "name": "python3"
  },
  "language_info": {
   "codemirror_mode": {
    "name": "ipython",
    "version": 3
   },
   "file_extension": ".py",
   "mimetype": "text/x-python",
   "name": "python",
   "nbconvert_exporter": "python",
   "pygments_lexer": "ipython3",
   "version": "3.10.4"
  }
 },
 "nbformat": 4,
 "nbformat_minor": 5
}
