{
 "cells": [
  {
   "cell_type": "markdown",
   "id": "83dc24e2-c0f8-45a4-a9f7-64c8b572fb10",
   "metadata": {},
   "source": [
    "# Simple ETL Example\n",
    "This example demonstrates a basic Extract, Transform, Load pattern for taking measurement data in various formats and normalizing to SystemLink DataFrames. It utilizes the ***File Service*** to download a specified file, the ***DataFrame Service*** to store the normalized test and measurement data, and the ***Test Monitor Service*** to link the metadata from the test data to the created DataTable in a highly searchable manner."
   ]
  },
  {
   "cell_type": "markdown",
   "id": "cd868567-3606-43fa-a022-c0a6d5ce1370",
   "metadata": {},
   "source": [
    "### Imports\n",
    "Import Python modules for executing the notebook. The requests and json libraries are used for communicating with the various SystemLink service's enpoints. Pandas is used for building and handling dataframe. Scrapbook is used for running notebooks and recording data for the SystemLink Notebook Execution Service.\n",
    "\n",
    "The SYSTEMLINK_API_KEY environment variable specifies an API key created for the user executinge this notebook, which provides Role Based Access Control to the various SystemLink APIs called by this notebook. The API key will expire after 24 hours.  \n",
    "The SYSTEMLINK_HTTP_URI environment variable gives the base URL to the SystemLink instance executing this notebook."
   ]
  },
  {
   "cell_type": "code",
   "execution_count": null,
   "id": "f3915ed6-00ec-4407-8f18-157fef8dcbe9",
   "metadata": {},
   "outputs": [],
   "source": [
    "import os\n",
    "import requests\n",
    "import json\n",
    "import pandas\n",
    "import scrapbook\n",
    "\n",
    "api_key = os.getenv(\"SYSTEMLINK_API_KEY\")\n",
    "sl_uri = os.getenv(\"SYSTEMLINK_HTTP_URI\")"
   ]
  },
  {
   "cell_type": "markdown",
   "id": "ccc08749-9e93-4ac8-9d05-de5dd0736ca9",
   "metadata": {},
   "source": [
    "### Parameters\n",
    "These are the parameters that the notebook expects to be passed in by SystemLink. For notebooks designed to be triggered by file actions as defined in the Routines Service or by pressing the 'Analyze' button in one of the SystemLink files grids, they must tag the cell with 'parameters' and at minimum specify the following in the cell metadata using the JupyterLab Property Inspector (double gear icon):\n",
    "```    \n",
    "{\n",
    "    \"papermill\": {\n",
    "        \"parameters\": {\n",
    "            \"file_ids\": []\n",
    "        }\n",
    "    },\n",
    "    \"tags\": [\n",
    "        \"parameters\"\n",
    "    ],\n",
    "    \"systemlink\": {\n",
    "        \"interfaces\": [\n",
    "            \"ni-files\"\n",
    "        ],\n",
    "        \"parameters\": [\n",
    "            {\n",
    "                \"display_name\": \"file_ids\",\n",
    "                \"id\": \"file_ids\",\n",
    "                \"type\": \"string[]\"\n",
    "            }\n",
    "        ],\n",
    "        \"version\": 2\n",
    "    }\n",
    "}\n",
    "```\n",
    "\n",
    "For more information on how paramaterization works, review the [papermill documentation](https://papermill.readthedocs.io/en/latest/usage-parameterize.html#how-parameters-work)."
   ]
  }
 ],
 "metadata": {
  "kernelspec": {
   "display_name": "Python 3 (ipykernel)",
   "language": "python",
   "name": "python3"
  },
  "language_info": {
   "codemirror_mode": {
    "name": "ipython",
    "version": 3
   },
   "file_extension": ".py",
   "mimetype": "text/x-python",
   "name": "python",
   "nbconvert_exporter": "python",
   "pygments_lexer": "ipython3",
   "version": "3.10.4"
  }
 },
 "nbformat": 4,
 "nbformat_minor": 5
}
